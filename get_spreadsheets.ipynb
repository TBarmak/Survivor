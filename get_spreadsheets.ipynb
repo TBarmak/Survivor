{
 "cells": [
  {
   "cell_type": "code",
   "execution_count": 1,
   "metadata": {},
   "outputs": [],
   "source": [
    "from selenium import webdriver\n",
    "from selenium.webdriver.common.keys import Keys\n",
    "from selenium.webdriver.common.by import By\n",
    "from selenium.webdriver.support import expected_conditions as EC\n",
    "from selenium.webdriver.support.ui import WebDriverWait\n",
    "import re"
   ]
  },
  {
   "cell_type": "code",
   "execution_count": 2,
   "metadata": {},
   "outputs": [],
   "source": [
    "driver=webdriver.Chrome(executable_path=\"C:\\\\Users\\\\taylo\\\\Downloads\\\\chromedriver_win32\\\\chromedriver.exe\")"
   ]
  },
  {
   "cell_type": "code",
   "execution_count": 3,
   "metadata": {},
   "outputs": [],
   "source": [
    "home_url = \"https://www.truedorktimes.com/survivor/boxscores/data.htm\"\n",
    "driver.get(home_url)\n",
    "driver.maximize_window()\n",
    "\n",
    "id_regex = re.compile('/d/([^/]*)')\n",
    "wait=WebDriverWait(driver,3)\n",
    "\n",
    "print(\"Downloading: \", end=\"\")\n",
    "\n",
    "# Download the google sheets as an excel file for each season\n",
    "for i in range(2, 81, 2):\n",
    "    driver.find_element(By.XPATH, '/html/body/div[2]/div[3]/div[1]/div[5]/div[2]/div/div[' + str(i) + ']/ul/li/a').click()\n",
    "    wait.until(EC.element_to_be_clickable((By.XPATH, '//*[@id=\"docs-file-menu\"]')))\n",
    "    url = driver.current_url\n",
    "    sheet_id = id_regex.search(url).group(1)\n",
    "    download_url = 'https://docs.google.com/spreadsheets/d/' + sheet_id + '/export?format=xlsx&id=' + sheet_id\n",
    "    print(\"=\", end=\"\")\n",
    "    driver.get(download_url)\n",
    "    driver.get(home_url)\n",
    "    \n",
    "# Get the idols spreadsheet and the cumulative spreadsheet    \n",
    "for i in range(1, 3):\n",
    "    driver.find_element(By.XPATH, '/html/body/div[2]/div[3]/div[1]/div[6]/div[2]/ul/li[' + str(i) + ']/a').click()\n",
    "    wait.until(EC.element_to_be_clickable((By.XPATH, '//*[@id=\"docs-file-menu\"]')))\n",
    "    url = driver.current_url\n",
    "    sheet_id = id_regex.search(url).group(1)\n",
    "    download_url = 'https://docs.google.com/spreadsheets/d/' + sheet_id + '/export?format=xlsx&id=' + sheet_id\n",
    "    print(\"=\", end=\"\")\n",
    "    driver.get(download_url)\n",
    "    driver.get(home_url)\n",
    "\n",
    "print()\n",
    "print(\"Done!\")\n",
    "\n",
    "driver.quit()"
   ]
  },
  {
   "cell_type": "code",
   "execution_count": null,
   "metadata": {},
   "outputs": [],
   "source": []
  }
 ],
 "metadata": {
  "kernelspec": {
   "display_name": "Python 3",
   "language": "python",
   "name": "python3"
  },
  "language_info": {
   "codemirror_mode": {
    "name": "ipython",
    "version": 3
   },
   "file_extension": ".py",
   "mimetype": "text/x-python",
   "name": "python",
   "nbconvert_exporter": "python",
   "pygments_lexer": "ipython3",
   "version": "3.6.5"
  }
 },
 "nbformat": 4,
 "nbformat_minor": 2
}
